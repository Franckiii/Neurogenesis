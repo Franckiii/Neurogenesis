{
 "cells": [
  {
   "cell_type": "markdown",
   "metadata": {},
   "source": [
    "<div style=\"font-size:30pt; line-height:25pt; font-weight:bold; text-align:center;\">When, where and how to add new neurons to ANNs </div>"
   ]
  },
  {
   "cell_type": "markdown",
   "metadata": {},
   "source": [
    "# Introduction"
   ]
  },
  {
   "cell_type": "markdown",
   "metadata": {},
   "source": [
    "Neural networks have come a long way, especially deep models with lots of neurons. Most of these models have a fixed structure, meaning we decide on the number of neurons in each layer before training and then tweak the parameters based on the dataset.\n",
    "\n",
    "However, there's a new approach in deep learning that's all about **dynamic networks**. Unlike the fixed ones, dynamic networks not only learn parameters during training but can also change their structure as they learn.\n",
    "\n",
    "This shift to dynamic networks has some advantages. It makes training more efficient and eliminates the need for manual tweaking of architectures. Dynamic networks can adapt to new information and tasks easily. They can even add or remove parts like neurons and connections as needed.\n",
    "\n",
    "This notebook is about understanding dynamic networks, focusing on a specific idea called **structural pruning**. This process involves selectively removing connections or neurons, showing a bit of a concept called neurogenesis. Neurogenesis is like adding new elements within existing layers. Structural pruning, as you'll see in this notebook, is an example that highlights how dynamic networks can keep evolving and improving."
   ]
  },
  {
   "cell_type": "markdown",
   "metadata": {},
   "source": [
    "# Artificial Neural Networks (ANNs)"
   ]
  },
  {
   "cell_type": "markdown",
   "metadata": {},
   "source": [
    "First, let's make a short reminder about Artificial Neural Networks.\n",
    "\n",
    "Artificial Neural Networks (ANNs) represent a class of computational models inspired by the neural architecture of the human brain. Operating as interconnected nodes organized into layers, ANNs leverage a combination of linear and non-linear transformations to capture complex relationships within data.\n",
    "\n",
    "At their core, ANNs consist of an input layer, one or more hidden layers, and an output layer. Each connection between nodes is associated with a weight, and the network learns by adjusting these weights during a training phase. The training process involves minimizing a predefined loss function, typically through optimization algorithms like stochastic gradient descent (SGD).\n",
    "\n",
    "Activation functions introduce non-linearities into the network, enabling the modeling of intricate mappings between inputs and outputs. Common activation functions include Rectified Linear Units (ReLU), Sigmoid, and Hyperbolic Tangent (tanh), each influencing the network's capacity to capture and propagate information through the layers..\n",
    "\n",
    "Training large-scale ANNs requires careful consideration of hyperparameters, such as learning rates, batch sizes, and regularization techniques to prevent overfitting.\n",
    "\n",
    "You can find more information and detail on **[this github](https://github.com/SupaeroDataScience/deep-learning)**\n",
    "\n",
    "<center><img src=\"img\\ann.png\" width=\"600px\"></img></center>"
   ]
  },
  {
   "cell_type": "markdown",
   "metadata": {},
   "source": [
    "## Time to code !! ##\n",
    "\n",
    "Let's make a little ANN to classify the **[MNIST dataset](https://en.wikipedia.org/wiki/MNIST_database)**. The MNIST dataset is composed of a collection of handwritten digit images, MNIST stands as a foundational resource for training and evaluating algorithms designed to recognize and classify digits from 0 to 9.\n",
    "Each image in the MNIST dataset is a grayscale, 28x28-pixel representation of a handwritten digit.\n",
    "\n",
    "**We will use Pytorch but you can do the same thing with Keras**\n",
    "\n",
    "First, let's load the data and print 9 random figures :"
   ]
  },
  {
   "cell_type": "code",
   "execution_count": 4,
   "metadata": {},
   "outputs": [
    {
     "name": "stdout",
     "output_type": "stream",
     "text": [
      "Collecting pyarrow\n",
      "  Using cached pyarrow-15.0.0-cp311-cp311-win_amd64.whl.metadata (3.1 kB)\n",
      "Requirement already satisfied: numpy<2,>=1.16.6 in c:\\users\\franc\\appdata\\local\\packages\\pythonsoftwarefoundation.python.3.11_qbz5n2kfra8p0\\localcache\\local-packages\\python311\\site-packages (from pyarrow) (1.26.4)\n",
      "Using cached pyarrow-15.0.0-cp311-cp311-win_amd64.whl (24.8 MB)\n",
      "Installing collected packages: pyarrow\n",
      "Successfully installed pyarrow-15.0.0\n"
     ]
    }
   ],
   "source": [
    "# Import the necessary libraries\n",
    "\n",
    "import torch\n",
    "import pandas as pd\n",
    "import numpy as np\n",
    "import matplotlib.pyplot as plt\n",
    "import random\n",
    "import os\n",
    "from tqdm import tqdm\n",
    "from torch.utils.data.sampler import SubsetRandomSampler\n",
    "from torchvision import datasets, transforms\n",
    "from torch.utils.data import DataLoader, Dataset\n",
    "from torch import nn, optim\n",
    "\n"
   ]
  },
  {
   "cell_type": "code",
   "execution_count": 5,
   "metadata": {},
   "outputs": [],
   "source": [
    "# We need a, image transform to convert to Tensor and normalize with a mean of 0.5 and standard deviation of 0.5\n",
    "transform = transforms.Compose([\n",
    "    transforms.ToTensor(),\n",
    "    transforms.Normalize((0.5,), (0.5,))\n",
    "    ])\n",
    "\n",
    "# Download the Train and Test set\n",
    "\n",
    "trainset = datasets.MNIST('.', train=True, download=True, transform=transform)\n",
    "testset = datasets.MNIST('.', train=False, download=True, transform=transform)"
   ]
  },
  {
   "cell_type": "code",
   "execution_count": 6,
   "metadata": {},
   "outputs": [
    {
     "data": {
      "image/png": "[encoded data removed]",
      "text/plain": [
       "<Figure size 800x800 with 9 Axes>"
      ]
     },
     "metadata": {},
     "output_type": "display_data"
    }
   ],
   "source": [
    "# Set up a 3x3 grid for displaying the images\n",
    "fig, axes = plt.subplots(3, 3, figsize=(8, 8))\n",
    "axes = axes.flatten()\n",
    "\n",
    "# Get 9 random indices from the training set\n",
    "random_indices = np.random.choice(len(trainset), size=9, replace=False)\n",
    "\n",
    "# Display the 9 random images\n",
    "for i, idx in enumerate(random_indices):\n",
    "    image, label = trainset[idx]\n",
    "    image = image.numpy().squeeze()\n",
    "    \n",
    "    axes[i].imshow(image, cmap='gray')\n",
    "    axes[i].set_title(f\"Label: {label}\")\n",
    "    axes[i].axis('off')\n",
    "\n",
    "plt.tight_layout()\n",
    "plt.show()"
   ]
  },
  {
   "cell_type": "code",
   "execution_count": 7,
   "metadata": {},
   "outputs": [],
   "source": [
    "# Parameters for the dataloader\n",
    "batch_size = 64\n",
    "valid_size = 0.2"
   ]
  },
  {
   "cell_type": "code",
   "execution_count": 8,
   "metadata": {},
   "outputs": [],
   "source": [
    "# Split the training set into training and validation sets\n",
    "num_train = len(trainset)\n",
    "indices = list(range(num_train))\n",
    "np.random.shuffle(indices)\n",
    "split = int(np.floor(valid_size * num_train))\n",
    "train_idx, valid_idx = indices[split:], indices[:split]\n",
    "\n",
    "# Define the samplers for obtaining training and validation batches\n",
    "train_sampler = SubsetRandomSampler(train_idx)\n",
    "valid_sampler = SubsetRandomSampler(valid_idx)"
   ]
  },
  {
   "cell_type": "code",
   "execution_count": 9,
   "metadata": {},
   "outputs": [],
   "source": [
    "# Create the dataloaders\n",
    "train_loader = DataLoader(trainset, batch_size=batch_size, sampler=train_sampler)\n",
    "valid_loader = DataLoader(trainset, batch_size=batch_size, sampler=valid_sampler)"
   ]
  },
  {
   "cell_type": "markdown",
   "metadata": {},
   "source": [
    "Now that we have prepared the data, we can implement a little ANN, with 2 hidden layers to classify the figures."
   ]
  },
  {
   "cell_type": "code",
   "execution_count": 10,
   "metadata": {},
   "outputs": [],
   "source": [
    "# Parameters for the model\n",
    "nb_epochs = 10\n",
    "lr = 0.001"
   ]
  },
  {
   "cell_type": "code",
   "execution_count": 28,
   "metadata": {},
   "outputs": [
    {
     "name": "stdout",
     "output_type": "stream",
     "text": [
      "ANN(\n",
      "  (network): Sequential(\n",
      "    (0): Linear(in_features=784, out_features=512, bias=False)\n",
      "    (1): ReLU()\n",
      "    (2): Linear(in_features=512, out_features=512, bias=False)\n",
      "    (3): ReLU()\n",
      "    (4): Linear(in_features=512, out_features=512, bias=False)\n",
      "    (5): ReLU()\n",
      "    (6): Linear(in_features=512, out_features=10, bias=False)\n",
      "    (7): LogSoftmax(dim=1)\n",
      "  )\n",
      ")\n"
     ]
    }
   ],
   "source": [
    "# Model architecture of the neural network fully connected\n",
    "\n",
    "class ANN(nn.Module):\n",
    "    def __init__(self, input_size, output_size, hidden_layer_1, hidden_layer_2, hidden_layer_3):\n",
    "        super().__init__()\n",
    "        self.network = nn.Sequential(\n",
    "            nn.Linear(input_size, hidden_layer_1, bias=False), \n",
    "            nn.ReLU(),\n",
    "            nn.Linear(hidden_layer_1, hidden_layer_2, bias=False),\n",
    "            nn.ReLU(),\n",
    "            nn.Linear(hidden_layer_2, hidden_layer_3, bias=False),\n",
    "            nn.ReLU(),\n",
    "            nn.Linear(hidden_layer_3, output_size, bias=False),\n",
    "            nn.LogSoftmax(dim=1))\n",
    "        \n",
    "    def forward(self, x):\n",
    "        x = x.view(-1, 28*28)\n",
    "        return self.network(x)\n",
    "\n",
    "# Create the model\n",
    "input_size = 28*28\n",
    "output_size = 10\n",
    "hidden_layer_1 = 512\n",
    "hidden_layer_2 = 512\n",
    "hidden_layer_3 = 512\n",
    "\n",
    "model_ann = ANN(input_size, output_size, hidden_layer_1, hidden_layer_2, hidden_layer_3)\n",
    "\n",
    "# Define the loss function and the optimizer\n",
    "criterion = nn.NLLLoss()\n",
    "optimizer = optim.Adam(model_ann.parameters(), lr=lr)\n",
    "print(model_ann)"
   ]
  },
  {
   "cell_type": "code",
   "execution_count": 29,
   "metadata": {},
   "outputs": [
    {
     "name": "stderr",
     "output_type": "stream",
     "text": [
      "Training of the ANN: 100%|██████████| 10/10 [09:51<00:00, 59.15s/it] \n"
     ]
    }
   ],
   "source": [
    "# Train the model\n",
    "list_loss = []\n",
    "for i in tqdm(range(nb_epochs),desc=\"Training of the ANN\"):\n",
    "    model_ann.train()\n",
    "    running_loss = 0\n",
    "    for images, labels in train_loader:\n",
    "        optimizer.zero_grad()\n",
    "        output = model_ann(images)\n",
    "        loss = criterion(output, labels)\n",
    "        loss.backward()\n",
    "        optimizer.step()\n",
    "        running_loss += loss.item()\n",
    "        # print(loss)\n",
    "    list_loss.append(running_loss/len(train_loader))\n",
    "    \n",
    "    # print(f\"Epoch nb {i+1}. Training loss: {running_loss/len(train_loader)}\")"
   ]
  },
  {
   "cell_type": "code",
   "execution_count": 30,
   "metadata": {},
   "outputs": [
    {
     "data": {
      "image/png": "[encoded data removed]",
      "text/plain": [
       "<Figure size 640x480 with 1 Axes>"
      ]
     },
     "metadata": {},
     "output_type": "display_data"
    }
   ],
   "source": [
    "# Plot the training loss\n",
    "plt.plot(list_loss)\n",
    "plt.xlabel('Epochs')\n",
    "plt.ylabel('Training loss')\n",
    "plt.title('Training loss')\n",
    "plt.show()"
   ]
  },
  {
   "cell_type": "code",
   "execution_count": 31,
   "metadata": {},
   "outputs": [
    {
     "name": "stdout",
     "output_type": "stream",
     "text": [
      "Accuracy of the model on the validation set: 97.06%\n"
     ]
    }
   ],
   "source": [
    "# Test the model\n",
    "model_ann.eval()\n",
    "correct = 0\n",
    "total = 0\n",
    "with torch.no_grad():\n",
    "    for images, labels in valid_loader:\n",
    "        output = model_ann(images)\n",
    "        _, predicted = torch.max(output, 1)\n",
    "        total += labels.size(0)\n",
    "        correct += (predicted == labels).sum().item()\n",
    "torch.save(model_ann.state_dict(), 'model.pt')\n",
    "print(f\"Accuracy of the model on the validation set: {100 * correct / total:.2f}%\")"
   ]
  },
  {
   "cell_type": "markdown",
   "metadata": {},
   "source": [
    "# Structural pruning "
   ]
  },
  {
   "cell_type": "markdown",
   "metadata": {},
   "source": [
    "Now that we've established our neural network, consisting of two layers with 512 neurons each, we can explore techniques to prune it effectively. Pruning aims to streamline the network, reducing training and validation time without compromising performance. Among various pruning methods, two stand out as the most commonly used:\n",
    "\n",
    "1. Weight pruning\n",
    "2. Neuron pruning\n",
    "\n",
    "Weight pruning involves removing connections between neurons by setting the corresponding weights to zero. Conversely, neuron pruning entails eliminating entire neurons by zeroing out all connections associated with the neuron being pruned. The distinction between these methods is illustrated in the image below.\n",
    "\n",
    "<center><img src=\"img\\Pruning image.webp\" width=\"500px\"></img></center>"
   ]
  },
  {
   "cell_type": "markdown",
   "metadata": {},
   "source": [
    "## 1. Weight pruning"
   ]
  },
  {
   "cell_type": "markdown",
   "metadata": {},
   "source": [
    "In the technique of weight pruning, we selectively remove connections within a neural network by setting individual weights in the weight matrix to zero. This process effectively sparsifies the network, reducing its complexity and potentially improving its efficiency during both training and inference stages.\n",
    "\n",
    "The mechanism of weight pruning involves ranking the individual weights in the weight matrix $W$ based on their magnitudes, considering the absolute value of each weight. By doing so, we obtain a sorted list of weights, with the smallest magnitudes appearing at the beginning of the list and the largest magnitudes towards the end.\n",
    "\n",
    "To achieve a desired level of sparsity, denoted as $k\\%$, we then proceed to set to zero the smallest $k\\%$ of weights from the sorted list. This corresponds to deleting a certain percentage of connections in the neural network, effectively reducing the number of parameters and connections within the model.\n",
    "\n",
    "The degree of sparsity, represented by $k\\%$, can be adjusted based on specific requirements or constraints. Higher values of $k\\%$ result in more aggressive pruning, leading to greater sparsity but potentially at the expense of model performance. Conversely, lower values of $k\\%$ preserve more connections and parameters, thus retaining more of the network's original capacity."
   ]
  },
  {
   "cell_type": "markdown",
   "metadata": {},
   "source": [
    "First let's code a class of pruning. To do so, we will rewrite the code implemented in Pytorch to understand how it works. We will use the useful fonctions and the skeleton class that you can find **[here](https://github.com/pytorch/pytorch/blob/main/torch/nn/utils/prune.py)**. "
   ]
  },
  {
   "cell_type": "code",
   "execution_count": 81,
   "metadata": {},
   "outputs": [],
   "source": [
    "# Skeleton of the pruning class\n",
    "from torch.nn.utils.prune import BasePruningMethod\n",
    "\n",
    "# Some useful fonction to validate the pruning amount \n",
    "# If you want to see how they work, you can look at the link right above\n",
    "from torch.nn.utils.prune import _validate_pruning_amount_init, _validate_pruning_amount"
   ]
  },
  {
   "cell_type": "code",
   "execution_count": 82,
   "metadata": {},
   "outputs": [],
   "source": [
    "class Weight_Pruning(BasePruningMethod):\n",
    "    \"\"\"Prune (currently unpruned) units in a tensor by zeroing out the ones with the lowest L1-norm.\n",
    "\n",
    "    Args:\n",
    "        amount (float): quantity of parameters to prune.\n",
    "            It should be between 0.0 and 1.0 and represent the\n",
    "            fraction of parameters to prune.\n",
    "    \"\"\"\n",
    "\n",
    "    PRUNING_TYPE = \"unstructured\"\n",
    "\n",
    "    def __init__(self, amount):\n",
    "        # Check range of validity of pruning amount\n",
    "        _validate_pruning_amount_init(amount)\n",
    "        self.amount = amount\n",
    "\n",
    "    def compute_mask(self, t, default_mask):\n",
    "\n",
    "        # t is the tensor to prune, meaning the weights of the layer\n",
    "        # Check that the amount of units to prune is not > than the number of\n",
    "        # parameters in t\n",
    "        tensor_size = t.nelement()\n",
    "\n",
    "        # Compute number of units to prune: amount * tensor_size\n",
    "        nparams_toprune = round(self.amount * tensor_size)\n",
    "\n",
    "        # This should raise an error if the number of units to prune is larger\n",
    "        # than the number of units in the tensor\n",
    "        _validate_pruning_amount(nparams_toprune, tensor_size)\n",
    "\n",
    "        mask = default_mask.clone(memory_format=torch.contiguous_format)\n",
    "\n",
    "        if nparams_toprune != 0:  # k=0 not supported by torch.kthvalue            \n",
    "            # Prune the smallest k (torch.topk returns the k largest elements of the input tensor)\n",
    "            # largest=True --> top k; largest=False --> bottom k\n",
    "            topk = torch.topk(torch.abs(t).view(-1), k=nparams_toprune, largest=False)\n",
    "            # topk will have .indices and .values\n",
    "            mask.view(-1)[topk.indices] = 0\n",
    "\n",
    "        return mask\n",
    "\n",
    "    @classmethod\n",
    "    def apply(cls, module, name, amount, importance_scores=None):\n",
    "        r\"\"\"Add pruning on the fly and reparametrization of a tensor.\n",
    "\n",
    "        Adds the forward pre-hook that enables pruning on the fly and\n",
    "        the reparametrization of a tensor in terms of the original tensor\n",
    "        and the pruning mask.\n",
    "\n",
    "        Args:\n",
    "            module (nn.Module): module containing the tensor to prune\n",
    "            name (str): parameter name within ``module`` on which pruning\n",
    "                will act.\n",
    "            amount (int or float): quantity of parameters to prune.\n",
    "                It should be between 0.0 and 1.0 and represent the\n",
    "                fraction of parameters to prune.\n",
    "            importance_scores (torch.Tensor): tensor of importance scores (of same\n",
    "                shape as module parameter) used to compute mask for pruning.\n",
    "                The values in this tensor indicate the importance of the corresponding\n",
    "                elements in the parameter being pruned.\n",
    "                If unspecified or None, the module parameter will be used in its place.\n",
    "        \"\"\"\n",
    "        return super().apply(\n",
    "            module, name, amount=amount, importance_scores=importance_scores\n",
    "        )\n"
   ]
  },
  {
   "cell_type": "code",
   "execution_count": 83,
   "metadata": {},
   "outputs": [
    {
     "name": "stderr",
     "output_type": "stream",
     "text": [
      "  0%|          | 0/20 [00:00<?, ?it/s]"
     ]
    },
    {
     "name": "stderr",
     "output_type": "stream",
     "text": [
      "100%|██████████| 20/20 [00:40<00:00,  2.02s/it]\n"
     ]
    }
   ],
   "source": [
    "import torch.nn.utils.prune as prune\n",
    "\n",
    "list_accuracy_weight = []\n",
    "\n",
    "for i in tqdm(range(20)):\n",
    "    model = ANN(input_size, output_size, hidden_layer_1, hidden_layer_2,hidden_layer_3)\n",
    "    model.load_state_dict(torch.load('model.pt'))\n",
    "    prune_l1 = Weight_Pruning(amount=i/20)\n",
    "    for name, module in model.named_modules():\n",
    "        if isinstance(module, nn.Linear):\n",
    "            prune_l1.apply(module, name='weight', amount=i/20)\n",
    "\n",
    "    # Test the model\n",
    "    model.eval()\n",
    "    correct = 0\n",
    "    total = 0\n",
    "    with torch.no_grad():\n",
    "        for images, labels in valid_loader:\n",
    "            output = model(images)\n",
    "            _, predicted = torch.max(output, 1)\n",
    "            total += labels.size(0)\n",
    "            correct += (predicted == labels).sum().item()\n",
    "    list_accuracy_weight.append(100 * correct / total)\n"
   ]
  },
  {
   "cell_type": "code",
   "execution_count": 79,
   "metadata": {},
   "outputs": [
    {
     "name": "stderr",
     "output_type": "stream",
     "text": [
      "100%|██████████| 20/20 [00:37<00:00,  1.89s/it]"
     ]
    },
    {
     "name": "stdout",
     "output_type": "stream",
     "text": [
      "[97.05833333333334, 97.05833333333334, 97.05833333333334, 97.05833333333334, 97.05833333333334, 97.05833333333334, 97.05833333333334, 97.05833333333334, 97.05833333333334, 97.05833333333334, 97.05833333333334, 97.05833333333334, 97.05833333333334, 97.05833333333334, 97.05833333333334, 97.05833333333334, 97.05833333333334, 97.05833333333334, 97.05833333333334, 97.05833333333334]\n"
     ]
    },
    {
     "name": "stderr",
     "output_type": "stream",
     "text": [
      "\n"
     ]
    }
   ],
   "source": [
    "# Neuron pruning\n",
    "list_accuracy_neurons = []\n",
    "parameters_to_prune = (\n",
    "    (model.network[0], 'weight'),\n",
    "    (model.network[2], 'weight'),\n",
    "    (model.network[4], 'weight'),\n",
    "    (model.network[6], 'weight'),\n",
    ")\n",
    "\n",
    "for i in tqdm(range(20)):\n",
    "    model = ANN(input_size, output_size, hidden_layer_1, hidden_layer_2,hidden_layer_3)\n",
    "    model.load_state_dict(torch.load('model.pt'))\n",
    "    prune.global_unstructured(parameters_to_prune, pruning_method=prune.L1Unstructured, amount=i/20)\n",
    "\n",
    "    # Test the model\n",
    "    model.eval()\n",
    "    correct = 0\n",
    "    total = 0\n",
    "    with torch.no_grad():\n",
    "        for images, labels in valid_loader:\n",
    "            output = model(images)\n",
    "            _, predicted = torch.max(output, 1)\n",
    "            total += labels.size(0)\n",
    "            correct += (predicted == labels).sum().item()\n",
    "    list_accuracy_neurons.append(100 * correct / total)\n",
    "print(list_accuracy_neurons)"
   ]
  },
  {
   "cell_type": "code",
   "execution_count": 76,
   "metadata": {},
   "outputs": [
    {
     "data": {
      "image/png": "[encoded data removed]",
      "text/plain": [
       "<Figure size 640x480 with 1 Axes>"
      ]
     },
     "metadata": {},
     "output_type": "display_data"
    }
   ],
   "source": [
    "# Display the accuracy\n",
    "plt.plot(1/20 * np.arange(20), list_accuracy_weight)\n",
    "plt.plot(1/20 * np.arange(20), list_accuracy_neurons)\n",
    "plt.xlabel('Pruning level')\n",
    "plt.ylabel('Accuracy')\n",
    "plt.title('Accuracy vs Pruning level')\n",
    "plt.show()"
   ]
  },
  {
   "cell_type": "markdown",
   "metadata": {},
   "source": []
  },
  {
   "cell_type": "markdown",
   "metadata": {},
   "source": []
  }
 ],
 "metadata": {
  "kernelspec": {
   "display_name": "Python 3",
   "language": "python",
   "name": "python3"
  },
  "language_info": {
   "codemirror_mode": {
    "name": "ipython",
    "version": 3
   },
   "file_extension": ".py",
   "mimetype": "text/x-python",
   "name": "python",
   "nbconvert_exporter": "python",
   "pygments_lexer": "ipython3",
   "version": "3.11.8"
  }
 },
 "nbformat": 4,
 "nbformat_minor": 2
}

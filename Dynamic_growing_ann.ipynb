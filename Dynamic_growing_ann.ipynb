{
 "cells": [
  {
   "cell_type": "markdown",
   "metadata": {},
   "source": [
    "<div style=\"font-size:30pt; line-height:25pt; font-weight:bold; text-align:center;\">When, where and how to add new neurons to ANNs </div>"
   ]
  },
  {
   "cell_type": "markdown",
   "metadata": {},
   "source": [
    "# Introduction"
   ]
  },
  {
   "cell_type": "markdown",
   "metadata": {},
   "source": [
    "Neural networks have come a long way, especially deep models with lots of neurons. Most of these models have a fixed structure, meaning we decide on the number of neurons in each layer before training and then tweak the parameters based on the dataset.\n",
    "\n",
    "However, there's a new approach in deep learning that's all about **dynamic networks**. Unlike the fixed ones, dynamic networks not only learn parameters during training but can also change their structure as they learn.\n",
    "\n",
    "This shift to dynamic networks has some advantages. It makes training more efficient and eliminates the need for manual tweaking of architectures. Dynamic networks can adapt to new information and tasks easily. They can even add or remove parts like neurons and connections as needed.\n",
    "\n",
    "This notebook is about understanding dynamic networks, focusing on a specific idea called **structural pruning**. This process involves selectively removing connections or neurons, showing a bit of a concept called neurogenesis. Neurogenesis is like adding new elements within existing layers. Structural pruning, as you'll see in this notebook, is an example that highlights how dynamic networks can keep evolving and improving."
   ]
  },
  {
   "cell_type": "markdown",
   "metadata": {},
   "source": [
    "# Artificial Neural Networks (ANNs)"
   ]
  },
  {
   "cell_type": "markdown",
   "metadata": {},
   "source": [
    "First, let's make a short reminder about Artificial Neural Networks.\n",
    "\n",
    "Artificial Neural Networks (ANNs) represent a class of computational models inspired by the neural architecture of the human brain. Operating as interconnected nodes organized into layers, ANNs leverage a combination of linear and non-linear transformations to capture complex relationships within data.\n",
    "\n",
    "At their core, ANNs consist of an input layer, one or more hidden layers, and an output layer. Each connection between nodes is associated with a weight, and the network learns by adjusting these weights during a training phase. The training process involves minimizing a predefined loss function, typically through optimization algorithms like stochastic gradient descent (SGD).\n",
    "\n",
    "Activation functions introduce non-linearities into the network, enabling the modeling of intricate mappings between inputs and outputs. Common activation functions include Rectified Linear Units (ReLU), Sigmoid, and Hyperbolic Tangent (tanh), each influencing the network's capacity to capture and propagate information through the layers..\n",
    "\n",
    "Training large-scale ANNs requires careful consideration of hyperparameters, such as learning rates, batch sizes, and regularization techniques to prevent overfitting.\n",
    "\n",
    "You can find more information and detail on **[this github](https://github.com/SupaeroDataScience/deep-learning)**\n",
    "\n",
    "<center><img src=\"img\\ann.png\" width=\"600px\"></img></center>"
   ]
  },
  {
   "cell_type": "markdown",
   "metadata": {},
   "source": [
    "## Time to code !! ##\n",
    "\n",
    "Let's make a little ANN to classify the **[MNIST dataset](https://en.wikipedia.org/wiki/MNIST_database)**. The MNIST dataset is composed of a collection of handwritten digit images, MNIST stands as a foundational resource for training and evaluating algorithms designed to recognize and classify digits from 0 to 9.\n",
    "Each image in the MNIST dataset is a grayscale, 28x28-pixel representation of a handwritten digit.\n",
    "\n",
    "**We will use Pytorch but you can do the same thing with Keras**\n",
    "\n",
    "First, let's load the data and print 9 random figures :"
   ]
  },
  {
   "cell_type": "code",
   "execution_count": 31,
   "metadata": {},
   "outputs": [],
   "source": [
    "# Import the necessary libraries\n",
    "\n",
    "import torch\n",
    "import pandas as pd\n",
    "import numpy as np\n",
    "import matplotlib.pyplot as plt\n",
    "import random\n",
    "import os\n",
    "from tqdm import tqdm\n",
    "from torch.utils.data.sampler import SubsetRandomSampler\n",
    "from torchvision import datasets, transforms\n",
    "from torch.utils.data import DataLoader, Dataset\n",
    "from torch import nn, optim\n",
    "from scipy.stats import rankdata\n",
    "\n"
   ]
  },
  {
   "cell_type": "code",
   "execution_count": 11,
   "metadata": {},
   "outputs": [],
   "source": [
    "# We need a, image transform to convert to Tensor and normalize with a mean of 0.5 and standard deviation of 0.5\n",
    "transform = transforms.Compose([\n",
    "    transforms.ToTensor(),\n",
    "    transforms.Normalize((0.5,), (0.5,))\n",
    "    ])\n",
    "\n",
    "# Download the Train and Test set\n",
    "\n",
    "trainset = datasets.MNIST('.', train=True, download=True, transform=transform)\n",
    "testset = datasets.MNIST('.', train=False, download=True, transform=transform)"
   ]
  },
  {
   "cell_type": "code",
   "execution_count": 12,
   "metadata": {},
   "outputs": [
    {
     "data": {
      "image/png": "[encoded data removed]",
      "text/plain": [
       "<Figure size 800x800 with 9 Axes>"
      ]
     },
     "metadata": {},
     "output_type": "display_data"
    }
   ],
   "source": [
    "# Set up a 3x3 grid for displaying the images\n",
    "fig, axes = plt.subplots(3, 3, figsize=(8, 8))\n",
    "axes = axes.flatten()\n",
    "\n",
    "# Get 9 random indices from the training set\n",
    "random_indices = np.random.choice(len(trainset), size=9, replace=False)\n",
    "\n",
    "# Display the 9 random images\n",
    "for i, idx in enumerate(random_indices):\n",
    "    image, label = trainset[idx]\n",
    "    image = image.numpy().squeeze()\n",
    "    \n",
    "    axes[i].imshow(image, cmap='gray')\n",
    "    axes[i].set_title(f\"Label: {label}\")\n",
    "    axes[i].axis('off')\n",
    "\n",
    "plt.tight_layout()\n",
    "plt.show()"
   ]
  },
  {
   "cell_type": "code",
   "execution_count": 13,
   "metadata": {},
   "outputs": [],
   "source": [
    "# Parameters for the dataloader\n",
    "batch_size = 64\n",
    "valid_size = 0.2"
   ]
  },
  {
   "cell_type": "code",
   "execution_count": 14,
   "metadata": {},
   "outputs": [],
   "source": [
    "# Split the training set into training and validation sets\n",
    "num_train = len(trainset)\n",
    "indices = list(range(num_train))\n",
    "np.random.shuffle(indices)\n",
    "split = int(np.floor(valid_size * num_train))\n",
    "train_idx, valid_idx = indices[split:], indices[:split]\n",
    "\n",
    "# Define the samplers for obtaining training and validation batches\n",
    "train_sampler = SubsetRandomSampler(train_idx)\n",
    "valid_sampler = SubsetRandomSampler(valid_idx)"
   ]
  },
  {
   "cell_type": "code",
   "execution_count": 15,
   "metadata": {},
   "outputs": [],
   "source": [
    "# Create the dataloaders\n",
    "train_loader = DataLoader(trainset, batch_size=batch_size, sampler=train_sampler)\n",
    "valid_loader = DataLoader(trainset, batch_size=batch_size, sampler=valid_sampler)"
   ]
  },
  {
   "cell_type": "markdown",
   "metadata": {},
   "source": [
    "Now that we have prepared the data, we can implement a little ANN, with 2 hidden layers to classify the figures."
   ]
  },
  {
   "cell_type": "code",
   "execution_count": 16,
   "metadata": {},
   "outputs": [],
   "source": [
    "# Parameters for the model\n",
    "nb_epochs = 10\n",
    "lr = 0.001"
   ]
  },
  {
   "cell_type": "code",
   "execution_count": 17,
   "metadata": {},
   "outputs": [
    {
     "name": "stdout",
     "output_type": "stream",
     "text": [
      "ANN(\n",
      "  (network): Sequential(\n",
      "    (0): Linear(in_features=784, out_features=512, bias=True)\n",
      "    (1): ReLU()\n",
      "    (2): Linear(in_features=512, out_features=512, bias=True)\n",
      "    (3): ReLU()\n",
      "    (4): Linear(in_features=512, out_features=10, bias=True)\n",
      "    (5): LogSoftmax(dim=1)\n",
      "  )\n",
      ")\n"
     ]
    }
   ],
   "source": [
    "# Model architecture of the neural network fully connected\n",
    "\n",
    "class ANN(nn.Module):\n",
    "    def __init__(self, input_size, output_size, hidden_layer_1, hidden_layer_2):\n",
    "        super().__init__()\n",
    "        self.network = nn.Sequential(\n",
    "            nn.Linear(input_size, hidden_layer_1), \n",
    "            nn.ReLU(),\n",
    "            nn.Linear(hidden_layer_1, hidden_layer_2),\n",
    "            nn.ReLU(),\n",
    "            nn.Linear(hidden_layer_2, output_size),\n",
    "            nn.LogSoftmax(dim=1))\n",
    "        \n",
    "    def forward(self, x):\n",
    "        x = x.view(-1, 28*28)\n",
    "        return self.network(x)\n",
    "\n",
    "# Create the model\n",
    "input_size = 28*28\n",
    "output_size = 10\n",
    "hidden_layer_1 = 512\n",
    "hidden_layer_2 = 512\n",
    "\n",
    "model = ANN(input_size, output_size, hidden_layer_1, hidden_layer_2)\n",
    "\n",
    "# Define the loss function and the optimizer\n",
    "criterion = nn.NLLLoss()\n",
    "optimizer = optim.Adam(model.parameters(), lr=lr)\n",
    "print(model)"
   ]
  },
  {
   "cell_type": "code",
   "execution_count": 18,
   "metadata": {},
   "outputs": [
    {
     "name": "stderr",
     "output_type": "stream",
     "text": [
      "Training of the ANN: 100%|██████████| 10/10 [04:34<00:00, 27.42s/it]\n"
     ]
    }
   ],
   "source": [
    "# Train the model\n",
    "list_loss = []\n",
    "for i in tqdm(range(nb_epochs),desc=\"Training of the ANN\"):\n",
    "    model.train()\n",
    "    running_loss = 0\n",
    "    for images, labels in train_loader:\n",
    "        optimizer.zero_grad()\n",
    "        output = model(images)\n",
    "        loss = criterion(output, labels)\n",
    "        loss.backward()\n",
    "        optimizer.step()\n",
    "        running_loss += loss.item()\n",
    "        # print(loss)\n",
    "    list_loss.append(running_loss/len(train_loader))\n",
    "    \n",
    "    # print(f\"Epoch nb {i+1}. Training loss: {running_loss/len(train_loader)}\")"
   ]
  },
  {
   "cell_type": "code",
   "execution_count": 19,
   "metadata": {},
   "outputs": [
    {
     "data": {
      "image/png": "[encoded data removed]",
      "text/plain": [
       "<Figure size 640x480 with 1 Axes>"
      ]
     },
     "metadata": {},
     "output_type": "display_data"
    }
   ],
   "source": [
    "# Plot the training loss\n",
    "plt.plot(list_loss)\n",
    "plt.xlabel('Epochs')\n",
    "plt.ylabel('Training loss')\n",
    "plt.title('Training loss')\n",
    "plt.show()"
   ]
  },
  {
   "cell_type": "code",
   "execution_count": 28,
   "metadata": {},
   "outputs": [
    {
     "name": "stdout",
     "output_type": "stream",
     "text": [
      "Accuracy of the model on the validation set: 97.62%\n"
     ]
    }
   ],
   "source": [
    "# Test the model\n",
    "model.eval()\n",
    "correct = 0\n",
    "total = 0\n",
    "with torch.no_grad():\n",
    "    for images, labels in valid_loader:\n",
    "        output = model(images)\n",
    "        _, predicted = torch.max(output, 1)\n",
    "        total += labels.size(0)\n",
    "        correct += (predicted == labels).sum().item()\n",
    "\n",
    "print(f\"Accuracy of the model on the validation set: {100 * correct / total:.2f}%\")"
   ]
  },
  {
   "cell_type": "markdown",
   "metadata": {},
   "source": [
    "# Structural pruning "
   ]
  },
  {
   "cell_type": "markdown",
   "metadata": {},
   "source": [
    "Now that we've established our neural network, consisting of two layers with 512 neurons each, we can explore techniques to prune it effectively. Pruning aims to streamline the network, reducing training and validation time without compromising performance. Among various pruning methods, two stand out as the most commonly used:\n",
    "\n",
    "1. Weight pruning\n",
    "2. Neuron pruning\n",
    "\n",
    "Weight pruning involves removing connections between neurons by setting the corresponding weights to zero. Conversely, neuron pruning entails eliminating entire neurons by zeroing out all connections associated with the neuron being pruned. The distinction between these methods is illustrated in the image below.\n",
    "\n",
    "<center><img src=\"img\\Pruning image.webp\" width=\"500px\"></img></center>"
   ]
  },
  {
   "cell_type": "markdown",
   "metadata": {},
   "source": [
    "## 1. Weight pruning"
   ]
  },
  {
   "cell_type": "markdown",
   "metadata": {},
   "source": [
    "In the technique of weight pruning, we selectively remove connections within a neural network by setting individual weights in the weight matrix to zero. This process effectively sparsifies the network, reducing its complexity and potentially improving its efficiency during both training and inference stages.\n",
    "\n",
    "The mechanism of weight pruning involves ranking the individual weights in the weight matrix $W$ based on their magnitudes, considering the absolute value of each weight. By doing so, we obtain a sorted list of weights, with the smallest magnitudes appearing at the beginning of the list and the largest magnitudes towards the end.\n",
    "\n",
    "To achieve a desired level of sparsity, denoted as $k\\%$, we then proceed to set to zero the smallest $k\\%$ of weights from the sorted list. This corresponds to deleting a certain percentage of connections in the neural network, effectively reducing the number of parameters and connections within the model.\n",
    "\n",
    "The degree of sparsity, represented by $k\\%$, can be adjusted based on specific requirements or constraints. Higher values of %k\\%$ result in more aggressive pruning, leading to greater sparsity but potentially at the expense of model performance. Conversely, lower values of $k\\%$ preserve more connections and parameters, thus retaining more of the network's original capacity."
   ]
  },
  {
   "cell_type": "markdown",
   "metadata": {},
   "source": [
    "First let's code a class of pruning. To do that, we will rewrite the code implemented in Pytorch to understand how it works."
   ]
  },
  {
   "cell_type": "code",
   "execution_count": 51,
   "metadata": {},
   "outputs": [
    {
     "name": "stdout",
     "output_type": "stream",
     "text": [
      "torch.Size([512, 784])\n",
      "torch.Size([512, 784])\n",
      "torch.Size([512])\n",
      "torch.Size([512])\n",
      "torch.Size([512, 512])\n",
      "torch.Size([512, 512])\n",
      "torch.Size([512])\n",
      "torch.Size([512])\n",
      "torch.Size([10, 512])\n",
      "torch.Size([10, 512])\n",
      "ANN(\n",
      "  (network): Sequential(\n",
      "    (0): Linear(in_features=784, out_features=512, bias=True)\n",
      "    (1): ReLU()\n",
      "    (2): Linear(in_features=512, out_features=512, bias=True)\n",
      "    (3): ReLU()\n",
      "    (4): Linear(in_features=512, out_features=10, bias=True)\n",
      "    (5): LogSoftmax(dim=1)\n",
      "  )\n",
      ")\n",
      "Accuracy of the model on the validation set: 9.82%\n"
     ]
    }
   ],
   "source": [
    "# from src.prune import BasePruningMethod\n",
    "# # Fonction useful for the pruning\n",
    "from src.pruning import validate_amount\n",
    "\n",
    "class WeightPruning():\n",
    "    \n",
    "    def __init__(self, amount):\n",
    "        self.amount = amount\n",
    "\n",
    "    def prune(self, model):\n",
    "\n",
    "        # Validate the amount\n",
    "        validate_amount(self.amount, model)\n",
    "\n",
    "        # Get the weights of the model\n",
    "        weights = model.state_dict()\n",
    "        layers = list(model.state_dict())\n",
    "        pruned_weights = []\n",
    "        # We will go through all the layers of the model except the output layer\n",
    "        for l in layers[:-1]:\n",
    "\n",
    "            # Get the weights of the layer\n",
    "            weight = weights[l]\n",
    "            print(weight.shape)\n",
    "            # Get the absolute values of the weights\n",
    "            abs_weight = torch.abs(weight)\n",
    "\n",
    "            # Rank the weights depending on their absolute values, dense method is used to avoid having the same rank for different weights\n",
    "            rank = rankdata(abs_weight, method='dense').reshape(weight.shape)\n",
    "\n",
    "            # Get the threshold value\n",
    "            threshold = np.ceil(np.max(rank) * self.amount).astype(int)\n",
    "            # Create a mask to keep the weights that are above the threshold\n",
    "            mask = (rank <= threshold).astype(int)\n",
    "\n",
    "            # Prune the weights\n",
    "            pruned_weight = weight * mask\n",
    "            print(pruned_weight.shape)\n",
    "            # Get the rank of the weights\n",
    "            pruned_weights.append(pruned_weight)\n",
    "\n",
    "\n",
    "        # Update the model with the pruned weights\n",
    "        for i, l in enumerate(layers[:-1]):\n",
    "            weights[l] = pruned_weights[i]\n",
    "        model.load_state_dict(weights)\n",
    "        return model\n",
    "    "
   ]
  },
  {
   "cell_type": "code",
   "execution_count": 52,
   "metadata": {},
   "outputs": [
    {
     "name": "stdout",
     "output_type": "stream",
     "text": [
      "torch.Size([512, 784])\n",
      "torch.Size([512, 784])\n",
      "torch.Size([512])\n",
      "torch.Size([512])\n",
      "torch.Size([512, 512])\n",
      "torch.Size([512, 512])\n",
      "torch.Size([512])\n",
      "torch.Size([512])\n",
      "torch.Size([10, 512])\n",
      "torch.Size([10, 512])\n",
      "ANN(\n",
      "  (network): Sequential(\n",
      "    (0): Linear(in_features=784, out_features=512, bias=True)\n",
      "    (1): ReLU()\n",
      "    (2): Linear(in_features=512, out_features=512, bias=True)\n",
      "    (3): ReLU()\n",
      "    (4): Linear(in_features=512, out_features=10, bias=True)\n",
      "    (5): LogSoftmax(dim=1)\n",
      "  )\n",
      ")\n",
      "Accuracy of the model on the validation set: 9.82%\n"
     ]
    }
   ],
   "source": [
    "prune = WeightPruning(0.1)\n",
    "mod = prune.prune(model)\n",
    "print(mod)\n",
    "\n",
    "# Test the model\n",
    "mod.eval()\n",
    "correct = 0\n",
    "total = 0\n",
    "with torch.no_grad():\n",
    "    for images, labels in valid_loader:\n",
    "        output = mod(images)\n",
    "        _, predicted = torch.max(output, 1)\n",
    "        total += labels.size(0)\n",
    "        correct += (predicted == labels).sum().item()\n",
    "\n",
    "print(f\"Accuracy of the model on the validation set: {100 * correct / total:.2f}%\")"
   ]
  },
  {
   "cell_type": "markdown",
   "metadata": {},
   "source": []
  },
  {
   "cell_type": "markdown",
   "metadata": {},
   "source": []
  }
 ],
 "metadata": {
  "kernelspec": {
   "display_name": "Python 3",
   "language": "python",
   "name": "python3"
  },
  "language_info": {
   "codemirror_mode": {
    "name": "ipython",
    "version": 3
   },
   "file_extension": ".py",
   "mimetype": "text/x-python",
   "name": "python",
   "nbconvert_exporter": "python",
   "pygments_lexer": "ipython3",
   "version": "3.11.8"
  }
 },
 "nbformat": 4,
 "nbformat_minor": 2
}
